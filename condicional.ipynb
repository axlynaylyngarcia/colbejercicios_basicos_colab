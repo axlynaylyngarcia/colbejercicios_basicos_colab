{
  "nbformat": 4,
  "nbformat_minor": 0,
  "metadata": {
    "colab": {
      "provenance": [],
      "authorship_tag": "ABX9TyOlIQW66eMTqaBGBtFavAK+",
      "include_colab_link": true
    },
    "kernelspec": {
      "name": "python3",
      "display_name": "Python 3"
    },
    "language_info": {
      "name": "python"
    }
  },
  "cells": [
    {
      "cell_type": "markdown",
      "metadata": {
        "id": "view-in-github",
        "colab_type": "text"
      },
      "source": [
        "<a href=\"https://colab.research.google.com/github/axlynaylyngarcia/ejercicios_basicos_colab/blob/main/condicional.ipynb\" target=\"_parent\"><img src=\"https://colab.research.google.com/assets/colab-badge.svg\" alt=\"Open In Colab\"/></a>"
      ]
    },
    {
      "cell_type": "markdown",
      "source": [
        "# INSTRUCCIONES CONDICONALES\n",
        "\n",
        " - if\n",
        " - if else\n",
        " -if elif else "
      ],
      "metadata": {
        "id": "TJM3TzawonrG"
      }
    },
    {
      "cell_type": "code",
      "execution_count": null,
      "metadata": {
        "id": "WjiD6DTnoiuM"
      },
      "outputs": [],
      "source": [
        " \"\"\"Ejercicio 1\n",
        "programacion de coordenada cartesianas\"\"\"\n",
        "\n",
        "X= int (input(\"Ingrese coordenadas en x: \"))\n",
        "Y= int (input(\"Ingrese coordenadas en y: \"))\n",
        "if (X > 0 and Y > 0):\n",
        "    print(\"Punto en el primer cuadrante\")\n",
        "\n",
        "elif( X > 0  and Y < 0):\n",
        "    print(\"Punto en el segundo cuadrante \")\n",
        "\n",
        "elif(X < 0 and Y < 0):\n",
        "    print(\"Punto en el cuarto tercer\")\n",
        "\n",
        "elif(X < 0 and Y > 0):\n",
        "    print(\"Punto en el cuarto cuadrante\")\n",
        "\n",
        "elif X==0 and Y==0:\n",
        "    print(\"El punto esta en el origen\") "
      ]
    },
    {
      "cell_type": "code",
      "source": [
        "\"\"\"Ejercicio 2\n",
        "programacia que permita realizar un préstamo bancario, teniendo en cuenta que el \n",
        "préstamo será otorgado solamente a personas con ingresos superiores a $945200\n",
        "y que no posea otra deuda\"\"\"\n",
        "\n",
        "ingresos=int(input(\"Ingrese su sueldo: \"))\n",
        "#processing\n",
        "if ingresos>945200:\n",
        "    deudas=int(input(\" ¿ Tienes deudas? Escriba 0 para no. 1 para si: \"))\n",
        "    if deudas==0:\n",
        "        print(\"Se aprueba el préstamo\")\n",
        "    else:\n",
        "        print(\"No se aprueba el préstamo\")\n",
        "else:\n",
        "    print(\"No se aprueba el préstamo\")   "
      ],
      "metadata": {
        "id": "nXC0tYULrsY7"
      },
      "execution_count": null,
      "outputs": []
    },
    {
      "cell_type": "code",
      "source": [
        "\"\"\"Ejercicio 3:\n",
        "Programa que lea dos números enteros\n",
        "y averigüe si el uno es múltiplo del otro\"\"\"\n",
        "\n",
        "\n",
        "print(\"-------------------------------\")\n",
        "print(\"------------MULTIPLOS----------\")\n",
        "print(\"-------------------------------\")\n",
        "\n",
        "\n",
        "# input\n",
        "A=int(input(\"Digite el valor del primer numero: \"))\n",
        "B=int(input(\"Digite el valor del segundo numero: \"))\n",
        "\n",
        "\n",
        "#processing\n",
        "if A>B:\n",
        "    X=A/B\n",
        "    if (int(X)==X):\n",
        "      print(\"El numero \"+str(A)+\" es múltiplo del número \"+str(B))\n",
        "    else:\n",
        "      print(\"El numero \"+str(A)+\" NO es múltiplo del número \"+str(B))\n",
        "else:\n",
        "    X=B/A\n",
        "    if (int(X)==X):\n",
        "        print(\"El numero \"+str(B)+\" es múltiplo del número \"+str(A))\n",
        "    else:\n",
        "     print(\"El numero \"+str(B)+\" NO es múltiplo del número \"+str(A))\n",
        "\n",
        "#Fin"
      ],
      "metadata": {
        "id": "s0CcJmGNrtoN"
      },
      "execution_count": null,
      "outputs": []
    }
  ]
}