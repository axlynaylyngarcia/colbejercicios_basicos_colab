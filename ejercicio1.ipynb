{
  "nbformat": 4,
  "nbformat_minor": 0,
  "metadata": {
    "colab": {
      "provenance": [],
      "authorship_tag": "ABX9TyOZHdJBVy/DvdfLgtVz0IgX",
      "include_colab_link": true
    },
    "kernelspec": {
      "name": "python3",
      "display_name": "Python 3"
    },
    "language_info": {
      "name": "python"
    }
  },
  "cells": [
    {
      "cell_type": "markdown",
      "metadata": {
        "id": "view-in-github",
        "colab_type": "text"
      },
      "source": [
        "<a href=\"https://colab.research.google.com/github/axlynaylyngarcia/colbejercicios_basicos_colab/blob/main/ejercicio1.ipynb\" target=\"_parent\"><img src=\"https://colab.research.google.com/assets/colab-badge.svg\" alt=\"Open In Colab\"/></a>"
      ]
    },
    {
      "cell_type": "markdown",
      "source": [
        "# Ejercicios básicos Python \n",
        "1. Suma de dos números \n",
        "2. Potencia de un número "
      ],
      "metadata": {
        "id": "zYicD1PDghSh"
      }
    },
    {
      "cell_type": "code",
      "source": [
        "# Suma de dos números enteros \n",
        "\n",
        "print(\"--------------------------\")\n",
        "print(\"----SUMA DOS ENTEROS------\")\n",
        "print(\"--------------------------\")\n",
        "\n",
        "# input\n",
        "x = int(input(\"Digite el valor de x: \"))\n",
        "y = int(input(\"Digite el valor de y: \"))\n",
        "\n",
        "# processing\n",
        "z = x + y\n",
        "\n",
        "#output\n",
        "print(\"La suma de \",x,\" + \",y,\" es \", z)"
      ],
      "metadata": {
        "colab": {
          "base_uri": "https://localhost:8080/"
        },
        "id": "AulqXpeYfCPy",
        "outputId": "5df13705-12b5-495c-dd89-3376d8b15e54"
      },
      "execution_count": 4,
      "outputs": [
        {
          "output_type": "stream",
          "name": "stdout",
          "text": [
            "--------------------------\n",
            "----SUMA DOS ENTEROS------\n",
            "--------------------------\n",
            "Digite el valor de x: 6\n",
            "Digite el valor de y: 3\n",
            "La suma de  6  +  3  es  9\n"
          ]
        }
      ]
    }
  ]
}